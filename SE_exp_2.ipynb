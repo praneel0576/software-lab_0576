{
  "nbformat": 4,
  "nbformat_minor": 0,
  "metadata": {
    "colab": {
      "provenance": [],
      "authorship_tag": "ABX9TyNvQ65w5cJhNXukpappYd/6",
      "include_colab_link": true
    },
    "kernelspec": {
      "name": "python3",
      "display_name": "Python 3"
    },
    "language_info": {
      "name": "python"
    }
  },
  "cells": [
    {
      "cell_type": "markdown",
      "metadata": {
        "id": "view-in-github",
        "colab_type": "text"
      },
      "source": [
        "<a href=\"https://colab.research.google.com/github/praneel0576/software-lab_0576/blob/main/SE_exp_2.ipynb\" target=\"_parent\"><img src=\"https://colab.research.google.com/assets/colab-badge.svg\" alt=\"Open In Colab\"/></a>"
      ]
    },
    {
      "cell_type": "markdown",
      "source": [
        "1.\tImplement weather modeling* using the quadratic solution in stages: hard-coding variables keyboard input, read from a file, for a single set of input, multiple sets of inputs.\n",
        "\n",
        "a. save all versions, debug, fix problems, create a Github account\n",
        "\n",
        "Implementation outline for weather modeling using a quadratic solution. The approach evolves in stages:\n",
        "1.\tHardcoding variables.\n",
        "2.\tAccepting variables via keyboard input.\n",
        "3.\tReading variables from a file.\n",
        "4.\tProcessing a single set of inputs.\n",
        "5.\tProcessing multiple sets of inputs.\n",
        "At the end, you will save the versions, debug, fix issues, and push the project to GitHub.\n"
      ],
      "metadata": {
        "id": "YS_QErxLL5J4"
      }
    },
    {
      "cell_type": "code",
      "execution_count": 1,
      "metadata": {
        "id": "j9gMoTo_Lua4"
      },
      "outputs": [],
      "source": [
        "#1.\tHardcoding variables.\n",
        "def Temperature_Modeling(a,b,c,time):\n",
        "  temperature = a*time*2+b*time+c\n",
        "  return temperature"
      ]
    },
    {
      "cell_type": "code",
      "source": [
        "a,b,c=0.1,2,10\n",
        "time=5"
      ],
      "metadata": {
        "id": "QhVseeGINQjB"
      },
      "execution_count": 2,
      "outputs": []
    },
    {
      "cell_type": "code",
      "source": [
        "print(\"Hardcoded variable for weather modeling\")\n",
        "print(\"Temprature for hardcoded coefficient at time\",time,\"hours:\",Temperature_Modeling(a,b,c,time))"
      ],
      "metadata": {
        "colab": {
          "base_uri": "https://localhost:8080/"
        },
        "id": "5gpgNQ62NX7H",
        "outputId": "e70e3912-d95e-4a09-f021-cb0d3ad75b48"
      },
      "execution_count": 4,
      "outputs": [
        {
          "output_type": "stream",
          "name": "stdout",
          "text": [
            "Hardcoded variable for weather modeling\n",
            "Temprature for hardcoded coefficient at time 5 hours: 21.0\n"
          ]
        }
      ]
    },
    {
      "cell_type": "code",
      "source": [
        "#2.\tAccepting variables via keyboard input\n",
        "a=float(input(\"Enter coefficient a:\"))\n",
        "b=float(input(\"Enter coefficient b:\"))\n",
        "c=float(input(\"Enter coefficient c:\"))"
      ],
      "metadata": {
        "colab": {
          "base_uri": "https://localhost:8080/"
        },
        "id": "dXZXL5rDOQzB",
        "outputId": "b1dae081-0d22-4814-d4fc-bf89aafc0464"
      },
      "execution_count": 5,
      "outputs": [
        {
          "name": "stdout",
          "output_type": "stream",
          "text": [
            "Enter coefficient a:0.1\n",
            "Enter coefficient b:3\n",
            "Enter coefficient c:10\n"
          ]
        }
      ]
    },
    {
      "cell_type": "code",
      "source": [
        "time=float(input(\"Enter time:\"))"
      ],
      "metadata": {
        "colab": {
          "base_uri": "https://localhost:8080/"
        },
        "id": "Qt9KvVDCOpYY",
        "outputId": "49a0c373-daf3-4f10-bdf7-4515be068dca"
      },
      "execution_count": 6,
      "outputs": [
        {
          "name": "stdout",
          "output_type": "stream",
          "text": [
            "Enter time:4\n"
          ]
        }
      ]
    },
    {
      "cell_type": "code",
      "source": [
        "print(\"Hardcoded variable for weather modeling\")\n",
        "print(\"Temprature for hardcoded coefficient at time\",time,\"hours:\",Temperature_Modeling(a,b,c,time))"
      ],
      "metadata": {
        "colab": {
          "base_uri": "https://localhost:8080/"
        },
        "id": "QeAOSjUZOvQf",
        "outputId": "2b723005-a003-4027-cdde-ef5cb583a353"
      },
      "execution_count": 7,
      "outputs": [
        {
          "output_type": "stream",
          "name": "stdout",
          "text": [
            "Hardcoded variable for weather modeling\n",
            "Temprature for hardcoded coefficient at time 4.0 hours: 22.8\n"
          ]
        }
      ]
    },
    {
      "cell_type": "code",
      "source": [
        "#3.\tReading Variables from a File\n",
        "def read_from_file(filename):\n",
        "  with open(filename, 'r')as file:\n",
        "    lines = file.readlines()\n",
        "  coefficients = [tuple(map(float, line.strip().split(','))) for line in lines]\n",
        "  return coefficients\n"
      ],
      "metadata": {
        "id": "07aAQJtiO2GY"
      },
      "execution_count": 14,
      "outputs": []
    },
    {
      "cell_type": "code",
      "source": [
        "#4.\tProcessing a single set of inputs.\n",
        "coefficients = read_from_file('/content/filename.txt')\n",
        "a,b,c,time = coefficients[0]\n",
        "temperature = Temperature_Modeling(a,b,c,time)\n",
        "print(\"read from a file for weather modeling\")\n",
        "print(\"Temprature for hardcoded coefficient at time\",time,\"hours:\",Temperature_Modeling(a,b,c,time))"
      ],
      "metadata": {
        "colab": {
          "base_uri": "https://localhost:8080/"
        },
        "id": "G9LsyudfSj_C",
        "outputId": "2fb5b5f5-5ed9-42e2-b154-0a622e0e8cf7"
      },
      "execution_count": 18,
      "outputs": [
        {
          "output_type": "stream",
          "name": "stdout",
          "text": [
            "read from a file for weather modeling\n",
            "Temprature for hardcoded coefficient at time 2.0 hours: 12.4\n"
          ]
        }
      ]
    },
    {
      "cell_type": "code",
      "source": [
        "for idx, (a,b,c,time) in enumerate(coefficients):\n",
        "  temperature = Temperature_Modeling(a,b,c,time)\n",
        "  print(\"Temprature for hardcoded coefficient at time\",time,\"hours:\",Temperature_Modeling(a,b,c,time))"
      ],
      "metadata": {
        "colab": {
          "base_uri": "https://localhost:8080/"
        },
        "id": "ScT_0uryTLYS",
        "outputId": "f4fd22be-7d80-40c2-ccf9-4eb4cc6cb7d6"
      },
      "execution_count": 19,
      "outputs": [
        {
          "output_type": "stream",
          "name": "stdout",
          "text": [
            "Temprature for hardcoded coefficient at time 2.0 hours: 12.4\n",
            "Temprature for hardcoded coefficient at time 0.9 hours: 17.3\n",
            "Temprature for hardcoded coefficient at time 33.0 hours: 176.14\n",
            "Temprature for hardcoded coefficient at time 19.0 hours: 461.0\n"
          ]
        }
      ]
    }
  ]
}